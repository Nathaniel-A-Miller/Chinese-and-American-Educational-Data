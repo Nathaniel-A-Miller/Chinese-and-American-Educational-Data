{
 "cells": [
  {
   "cell_type": "markdown",
   "id": "7c6a601b",
   "metadata": {},
   "source": [
    "## Cheat at trig with Python꞉ Coding the cosine angle addition identity\n",
    "We'll be looking at how to code a simple trigonometic problem using Python. We'll evaluate  $cos(a+b)$, the sum of the cosine of two angles in a triangle using an identity of the cosine angle addition formula. This lesson is based on a video from Sal Khan's Khan Academy that you can find embedded (hit ctrl+enter in the cell below) if you want to watch it first."
   ]
  },
  {
   "cell_type": "code",
   "execution_count": 5,
   "id": "156701d8",
   "metadata": {},
   "outputs": [
    {
     "data": {
      "text/html": [
       "<iframe width=\"280\" height=\"158\" src=\"https://www.youtube.com/embed/h0SNEO25vIw\" title=\"YouTube video player\" frameborder=\"0\" allow=\"accelerometer; autoplay; clipboard-write; encrypted-media; gyroscope; picture-in-picture; web-share\" allowfullscreen></iframe>\n"
      ],
      "text/plain": [
       "<IPython.core.display.HTML object>"
      ]
     },
     "metadata": {},
     "output_type": "display_data"
    }
   ],
   "source": [
    "%%HTML\n",
    "<iframe width=\"280\" height=\"158\" src=\"https://www.youtube.com/embed/h0SNEO25vIw\" title=\"YouTube video player\" frameborder=\"0\" allow=\"accelerometer; autoplay; clipboard-write; encrypted-media; gyroscope; picture-in-picture; web-share\" allowfullscreen></iframe>"
   ]
  },
  {
   "cell_type": "markdown",
   "id": "764df0cd",
   "metadata": {},
   "source": [
    "First things first—this is the triangle Sal talks about:[<sup id=\"fn1-back\">1</sup>](#fn1 \"I inserted the image of the triangle using HTML to control its size and location\")\n",
    "\n",
    "<img src=\"https://github.com/Nathaniel-A-Miller/Portfolio/blob/master/triangle.jpg?raw=true\" alt=\"Right triangle ABC with lengths 17, 15, and 8.\" style= \"float: right; height: 307px; width:575px\"/>\n",
    "\n",
    "## Table of Contents\n",
    "- [The question](#the_question)\n",
    "- [The cosine angle addition identity](#cosine_a_a_i)\n",
    "- [The solution](#the_solution)\n",
    "- [Some automation](#coding_it)\n",
    "\n",
    "<br>\n",
    "<br>\n",
    "<br>\n",
    "<br>\n",
    "<br>\n",
    "\n",
    "\n",
    "[<sup id=\"fn1\">1</sup>](#fn1-back) I inserted this image of the triangle using HTML to control its size and location. And I found the foonote and hover tooltip snippet [here](https://github.com/jupyter/notebook/issues/1287#issuecomment-504491328)."
   ]
  },
  {
   "cell_type": "markdown",
   "id": "5ff25e29",
   "metadata": {},
   "source": [
    "<a id='the_question'></a>\n",
    "### The question\n",
    "\n",
    "We want to know the $cos(\\angle ABC + 60°)$ (marked in <span style=\"color:purple\"><b>purple<b></span> in the image above).\n",
    "    \n",
    "**What does that question even mean?**\n",
    "    \n",
    "Well, if you remember your \"SOH CAH TOA\" definition of basic trig functions, cosine (C) is \"CAH\"—\n",
    "so \n",
    "> $Cosine = \\frac{\\text{A adjacent side}}{\\text{H hypotenuse}}$\n",
    "    \n",
    "That's going to be $\\frac{15}{17}$ for $\\angle ABC$ above. Easy right? Now that we know what $\\cos(\\angle ABC)$ is we need to add $cos(60°)$ to it.\n",
    "    \n",
    "    "
   ]
  },
  {
   "cell_type": "markdown",
   "id": "9d5bb3be",
   "metadata": {},
   "source": [
    "<a id='#cosine_a_a_i'></a>\n",
    "\n",
    "### The cosine angle addition identity\n",
    "\n",
    "\n",
    "<br>\n",
    "<img src=\"https://upload.wikimedia.org/wikipedia/commons/thumb/4/4c/Unit_circle_angles_color.svg/480px-Unit_circle_angles_color.svg.png\" alt=\"A unit circle\" style= \"float: right; height: 360px; width:360px;\"/>\n",
    "\n",
    "So we know that $cos(\\angle ABC) = \\frac{15}{17}$. As it happens, $cos(60°) = \\frac{1}{2}$. The only thing we need to add these two is the **cosine angle addition identity**:\n",
    "> $cos(a + b) = cos(a)cos(b)-sin(a)sin(b)$\n",
    "\n",
    "If you're curious how we know that, Sal proves the identity [here](https://youtu.be/0VBQnR2h8XM).\n",
    "\n",
    "Now all we need to do is find out $sin(a)$ and $sin(b)$. This is easily done if we look at the triangle again and remember the SOH from \"SOH CAH TOA\":\n",
    "> $Sine = \\frac{\\text{O opposite side}}{\\text{H hypotenuse}}$\n",
    "\n",
    "As we can see from the triangle above, the $sin(\\angle ABC)$ is $\\frac{8}{17}$. And if you remember your unit circle (which you can see on your right) or have a calculator, you can easily find that $sin(60°)$ is $\\frac{√3}{2}$. Of course, now we can start using a bit of Python for that:\n",
    "\n"
   ]
  },
  {
   "cell_type": "code",
   "execution_count": 29,
   "id": "d5751706",
   "metadata": {},
   "outputs": [
    {
     "name": "stdout",
     "output_type": "stream",
     "text": [
      "60 degrees is 1.0471975511965976 radians\n",
      "\n",
      "sin(60°) =  0.8660254037844386\n",
      "\n",
      "Is 0.8660254037844386 equal to √3/2?\n",
      "yes\n"
     ]
    }
   ],
   "source": [
    "# first we import the math library\n",
    "import math\n",
    "\n",
    "# we can convert 60 degrees into radians and assign that to a variable\n",
    "x = math.radians(60)\n",
    "\n",
    "# print the variable to see how many radians we're dealing with\n",
    "print(\"60 degrees is\", x, \"radians\")\n",
    "\n",
    "# then call the sin function of the math library putting x in as an argument\n",
    "print(\"\\nsin(60°) = \", math.sin(x))\n",
    "\n",
    "# we can use a Boolean to make sure that result is what we saw in the unit circle\n",
    "print(\"\\nIs\", math.sin(x), \"equal to √3/2?\")\n",
    "if math.sin(x) == math.sqrt(3)/2:\n",
    "    print(\"yes\")\n",
    "else:\n",
    "    print(\"no\")"
   ]
  },
  {
   "cell_type": "markdown",
   "id": "05e62928",
   "metadata": {},
   "source": [
    "<a id='the_solution'></a>\n",
    "### The solution\n",
    "\n",
    "\n",
    "In order to solve the problem, all we need to do is plug the values we've found into the cosine angle addition identity:\n",
    "\n",
    "> $cos(a + b) = cos(a)cos(b)-sin(a)sin(b)$\n",
    "<br><br>\n",
    "&emsp;&emsp;&emsp;&emsp;&emsp;&nbsp;$=$&emsp;$\\frac{15}{17}\\cdot\\frac{1}{2}$&emsp;&emsp;&ensp;$-$&emsp;$\\frac{8}{17}\\cdot\\frac{√3}{2}$<br><br>\n",
    "&emsp;&emsp;&emsp;&emsp;&emsp;&nbsp;$=\\frac{15}{34}-\\frac{4√3}{17}$\n",
    "\n",
    "Let's try that with Python:"
   ]
  },
  {
   "cell_type": "code",
   "execution_count": 38,
   "id": "54d891db",
   "metadata": {},
   "outputs": [
    {
     "name": "stdout",
     "output_type": "stream",
     "text": [
      "0.03363510410144066\n"
     ]
    }
   ],
   "source": [
    "# this is the correct solution\n",
    "print(15/17*1/2-8/17*math.sqrt(3)/2)"
   ]
  },
  {
   "cell_type": "markdown",
   "id": "f3f6beef",
   "metadata": {},
   "source": [
    "<a id='coding_it'></a>\n",
    "### Some automation\n",
    "\n",
    "The above is not a very efficient way to solve a simple trigonometric problem, but let's say we want to be able to answer _any_ question of the type described above. This can be automated and then we do get more mileage from our efforts. "
   ]
  },
  {
   "cell_type": "code",
   "execution_count": 111,
   "id": "9020389f",
   "metadata": {},
   "outputs": [
    {
     "name": "stdout",
     "output_type": "stream",
     "text": [
      "Please enter length side AC: 5\n",
      "Please enter length side BC: 6\n",
      "So the hypotenuse side AB is length 7.810249675906654\n",
      "Are you interested in angle A or B?A\n",
      "What angle (in degrees) do you want to add to A ? \n",
      "30\n",
      "0.6401843996644799 0.8660254037844387 0.7682212795973759 0.49999999999999994\n",
      "The cosine of angle A + the cosine of 30 degrees is 0.170\n"
     ]
    }
   ],
   "source": [
    "import math\n",
    "\n",
    "# take as input two side lengths AC, and BC and combine them in a list\n",
    "sides = [int(input('Please enter length side AC: ')), int(input('Please enter length side BC: '))]\n",
    "\n",
    "# calculate the hypotenuse based on the two given side lengths and append it to the list\n",
    "hypotenuse = math.sqrt(sides[0]**2+sides[1]**2)\n",
    "print(\"So the hypotenuse side AB is length\", hypotenuse)\n",
    "\n",
    "# take angle of interest as input, ie the a in cos(a+b)\n",
    "# get the index of that angle in a list of two to use in calulating sin and cos\n",
    "list_of_angles = [\"A\", \"B\"]\n",
    "angle_of_interest = input('Are you interested in angle A or B? ')\n",
    "index_angle = list_of_angles.index(angle_of_interest)\n",
    "\n",
    "# get b of cos(a+b)\n",
    "print('What angle (in degrees) do you want to add to', angle_of_interest, '? ')\n",
    "angle_b = math.radians(int(input()))\n",
    "\n",
    "# assign variables for four components of identity\n",
    "# cos(a + b) = cos(a)cos(b)-sin(a)sin(b)\n",
    "cos_a = sides[index_angle]/hypotenuse\n",
    "cos_b = math.cos(angle_b)\n",
    "sin_a = sides[index_angle-1]/hypotenuse\n",
    "sin_b = math.sin(angle_b)\n",
    "\n",
    "#calculate the solution using the cosine angle addition identity\n",
    "solution = abs((cos_a*cos_b)-(sin_a*sin_b))\n",
    "\n",
    "# print the answer\n",
    "print(\"The cosine of angle\", angle_of_interest, \"+ the cosine of\",\n",
    "      round(math.degrees(angle_b)), \"degrees is\", \"{:.3f}\".format(solution))"
   ]
  },
  {
   "cell_type": "markdown",
   "id": "f1f19f2a",
   "metadata": {},
   "source": [
    "🎓 So there you have it. You can run that cell with the values from the triangle in the image from the Khan Academy video to check that the code works, but now you can also answer _any_ similar question.\n",
    "\n",
    "The code will take the values you're given about the lengths of any right triangle, then calculate the $cosine$ and $sine$ values you need for the cosine angle addition identity $cos(a + b) = cos(a)cos(b)-sin(a)sin(b)$, which you now no longer have to remember, and it will do the calculations for you.\n",
    "\n",
    "It would not take very much effort to expand the inputs the code can take, build in some more trig identities so we could answer a broader range of questions, or put it all into a function to integrate with other math problems. But that's all for now.\n",
    "\n",
    "Hopefully you have learned so much now that you no longer want to cheat on your next Trig quiz!"
   ]
  }
 ],
 "metadata": {
  "kernelspec": {
   "display_name": "Python 3 (ipykernel)",
   "language": "python",
   "name": "python3"
  },
  "language_info": {
   "codemirror_mode": {
    "name": "ipython",
    "version": 3
   },
   "file_extension": ".py",
   "mimetype": "text/x-python",
   "name": "python",
   "nbconvert_exporter": "python",
   "pygments_lexer": "ipython3",
   "version": "3.9.13"
  }
 },
 "nbformat": 4,
 "nbformat_minor": 5
}
